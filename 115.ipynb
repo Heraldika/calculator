{
  "nbformat": 4,
  "nbformat_minor": 0,
  "metadata": {
    "kernelspec": {
      "display_name": "Python 3",
      "language": "python",
      "name": "python3"
    },
    "language_info": {
      "codemirror_mode": {
        "name": "ipython",
        "version": 3
      },
      "file_extension": ".py",
      "mimetype": "text/x-python",
      "name": "python",
      "nbconvert_exporter": "python",
      "pygments_lexer": "ipython3",
      "version": "3.7.7"
    },
    "colab": {
      "name": "115.ipynb",
      "provenance": []
    }
  },
  "cells": [
    {
      "cell_type": "markdown",
      "metadata": {
        "id": "ZHdVEAqqcyWO"
      },
      "source": [
        "# Module 1: Data Wrangling with Python\n",
        "## Sprint 1: Python Mastery\n",
        "## Part 5: OOP based Calculator\n"
      ]
    },
    {
      "cell_type": "markdown",
      "metadata": {
        "id": "B6DQfB3tcyWc"
      },
      "source": [
        "## About this Part\n",
        "\n",
        "Congrats!\n",
        "You completed almost all assignments and tasks of this Sprint.\n",
        "You did a great job.\n",
        "In this Part, you will need to prove all the skills that you learned.\n",
        "As the final assignment of this Sprint, you will have to create your own Python package.\n",
        "You will have to apply all what you have learned about OOP and \"Clean Code\" concepts.\n",
        "\n",
        "## Objectives for this Part\n",
        "\n",
        "- Practice writing clean OOP based Python code and testing it.\n",
        "- Practice creation your own Python package.\n",
        "- Understand and apply required software license for your package.\n",
        "- Practice dealing with Python environments.\n",
        "- Practice creating and working in a Docker container.\n"
      ]
    },
    {
      "cell_type": "markdown",
      "metadata": {
        "id": "1ADT_CzXcyWd"
      },
      "source": [
        "---"
      ]
    },
    {
      "cell_type": "markdown",
      "metadata": {
        "id": "sH8vMU-GcyWd"
      },
      "source": [
        "## The calculator\n",
        "\n",
        "You will need to create a Python module and later transform it into a package.\n",
        "This module will be a calculator.\n",
        "What you should do at first is initialize new Python package structure and create a new file that will be used as a module."
      ]
    },
    {
      "cell_type": "markdown",
      "metadata": {
        "id": "i2yRMUVKcyWd"
      },
      "source": [
        "## Writing tests and documentation\n",
        "\n",
        "You should also write tests that ensure that the basic functionality of the class is covered.\n",
        "Make sure that math operations returns expected results. Document your calculator class using docstrings.\n",
        "Add explanation of the package to README file.\n",
        "Try to be as verbose as possible: include instruction on how to install the package, how to use specific methods.  "
      ]
    },
    {
      "cell_type": "markdown",
      "metadata": {
        "id": "vJyo7I1qcyWe"
      },
      "source": [
        "---"
      ]
    },
    {
      "cell_type": "markdown",
      "metadata": {
        "id": "9wwJwfFscyWe"
      },
      "source": [
        "## Requirements\n",
        "\n",
        "The main package file should contain a class `Calculator` that should be able to perform these actions:  \n",
        "\n",
        "- Addition / Subtraction.\n",
        "- Multiplication / Division.\n",
        "- Take (n) root of number.\n",
        "- Reset memory (**Calculator must have its own memory, meaning it should manipulate its starting number `0` until it is reset.**).\n",
        "\n",
        "This means that for example `calculator` should perform actions with a value inside its memory (for this example value inside the calculator's memory is `0`): `calculator.add(2)` results in `2`."
      ]
    },
    {
      "cell_type": "markdown",
      "metadata": {
        "id": "uUi5n-RXcyWe"
      },
      "source": [
        "Present your newly created Python package:\n",
        "\n",
        "* Make a short introduction to the repository of the package.\n",
        "* Install the package into the Google Colab's env using `pip`.\n",
        "* Showcase functionality of the created package.\n",
        "* If bonus challenge is completed - explain how the `Dockerfile` is structured and what is its functionality."
      ]
    },
    {
      "cell_type": "markdown",
      "metadata": {
        "id": "xjfWNJmkcyWf"
      },
      "source": [
        "## Evaluation criteria\n",
        "\n",
        "1. Correct Python Package structure is initialized.\n",
        "2. Calculator module is created.\n",
        "3. Calculator class performs required actions.\n",
        "4. Tests are written.\n",
        "5. Code is written with PEP8 standards in mind.\n",
        "6. Code is well-documented.\n",
        "7. Project has informative README file.\n",
        "8. Package is installable through `pip`."
      ]
    },
    {
      "cell_type": "markdown",
      "metadata": {
        "id": "inRuflSpcyWf"
      },
      "source": [
        "## Bonus challenge\n",
        "\n",
        "Add Dockerfile to the repository that is able to run your module.\n",
        "Python `3.8` environment is initialized and the package is installed when creating Docker container from the image."
      ]
    },
    {
      "cell_type": "markdown",
      "metadata": {
        "id": "h2BJ02p-cyWg"
      },
      "source": [
        "## Sample correction questions\n",
        "\n",
        "During a correction, you may get asked questions that test your understanding of covered topics.\n",
        "\n",
        "- What is Object-Oriented Programming? Select and explain two examples where using OOP concepts can improve quality and usability of code.\n",
        "- What is \"Clean Code\"? Select four main key concepts and explain them using real world examples.\n",
        "- Why do we need to document code? How can you do it? What should be provided inside the documentation?\n",
        "- Explain containerization. Why would you want to use one? What are the main differences between virtualization and containerization?"
      ]
    },
    {
      "cell_type": "code",
      "metadata": {
        "id": "DUsSZeQFcz3J",
        "outputId": "8ea7eed6-e46a-4bfe-d1f4-f3e8d818b3e6",
        "colab": {
          "base_uri": "https://localhost:8080/"
        }
      },
      "source": [
        "!pip install mcalc"
      ],
      "execution_count": 12,
      "outputs": [
        {
          "output_type": "stream",
          "text": [
            "Collecting mcalc\n",
            "  Downloading https://files.pythonhosted.org/packages/bc/69/ccbcaf4ee099790ab39c76190e78dd7f351b465169c1c5638c308ce59640/mcalc-0.1.1-py2.py3-none-any.whl\n",
            "Installing collected packages: mcalc\n",
            "Successfully installed mcalc-0.1.1\n"
          ],
          "name": "stdout"
        }
      ]
    },
    {
      "cell_type": "code",
      "metadata": {
        "id": "chyRF1Dec86S",
        "outputId": "4e67b2e3-7d8e-4824-beb8-bdc8663e7f2a",
        "colab": {
          "base_uri": "https://localhost:8080/"
        }
      },
      "source": [
        "import mcalc\n",
        "\n",
        "d = mcalc.calc.Calculator(0)\n",
        "print(d.add(2))\n",
        "print(d.add(6))\n",
        "print(d.n_root(3))"
      ],
      "execution_count": 17,
      "outputs": [
        {
          "output_type": "stream",
          "text": [
            "2.0\n",
            "8.0\n",
            "2.0\n"
          ],
          "name": "stdout"
        }
      ]
    },
    {
      "cell_type": "code",
      "metadata": {
        "id": "A6D7CdacdJ1d"
      },
      "source": [
        ""
      ],
      "execution_count": null,
      "outputs": []
    }
  ]
}