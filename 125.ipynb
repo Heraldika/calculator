{
  "nbformat": 4,
  "nbformat_minor": 0,
  "metadata": {
    "kernelspec": {
      "display_name": "Python 3",
      "language": "python",
      "name": "python3"
    },
    "language_info": {
      "codemirror_mode": {
        "name": "ipython",
        "version": 3
      },
      "file_extension": ".py",
      "mimetype": "text/x-python",
      "name": "python",
      "nbconvert_exporter": "python",
      "pygments_lexer": "ipython3",
      "version": "3.7.7"
    },
    "colab": {
      "name": "125.ipynb",
      "provenance": []
    }
  },
  "cells": [
    {
      "cell_type": "markdown",
      "metadata": {
        "id": "MfwXTrXvypPN"
      },
      "source": [
        "# Module 1: Data Wrangling with Python\n",
        "## Sprint 2: Data Processing with NumPy and Pandas\n",
        "## Part 5: Top 50 Spotify Tracks of 2020\n"
      ]
    },
    {
      "cell_type": "markdown",
      "metadata": {
        "id": "Le5ZHwvFypPe"
      },
      "source": [
        "## About this Part\n",
        "\n",
        "Congrats!\n",
        "You completed almost all assignments and tasks of this Sprint.\n",
        "You did a great job.\n",
        "In this Part, you will need to prove all the skills that you learned.\n",
        "As the final assignment of this Sprint, you will analyse the Top 50 Spotify Tracks 2020 dataset.\n",
        "You will have to apply all what you have learned about Data Analysis, Linear Algebra, NumPy, and Pandas to complete this task.\n",
        "\n",
        "## Objectives for this Part\n",
        "\n",
        "- Practice working with data from Kaggle.\n",
        "- Practice performing basic EDA.\n",
        "- Practice reading data, performing queries, and filtering data using Pandas.\n",
        "\n",
        "## Requirements\n",
        "\n",
        "- Download the data from [Spotify Top 50 Tracks of 2020 dataset](https://www.kaggle.com/atillacolak/top-50-spotify-tracks-2020).\n",
        "- Load the data using Pandas.\n",
        "- Perform data cleaning by:\n",
        "  - Handling missing values.\n",
        "  - Removing duplicate samples and features.\n",
        "  - Treating the outliers.\n",
        "- Perform exploratory data analysis. Your analysis should provide answers to these questions:\n",
        "  - How many observations there are in this dataset?\n",
        "  - How many features this dataset has?\n",
        "  - Which of the features are categorical?\n",
        "  - Which of the features are numeric?\n",
        "  - Are there any artists that have more than 1 popular track? If yes, which and how many?\n",
        "  - Who was the most popular artist?\n",
        "  - How many artists in total have their songs in the top 50?\n",
        "  - Are there any albums that have more than 1 popular track? If yes, which and how many?\n",
        "  - How many albums in total have their songs in the top 50?\n",
        "  - Which tracks have their danceability score above 0.7?\n",
        "  - Which tracks have their danceability score below 0.4?\n",
        "  - Which tracks have their loudness above -5?\n",
        "  - Which tracks have their loudness below -8?\n",
        "  - Which track is the longest?\n",
        "  - Which track is the shortest?\n",
        "  - Which genre is the most popular?\n",
        "  - Which genres have just one song on the top 50?\n",
        "  - How many genres in total are represented in the top 50?\n",
        "  - Which features are strongly positively correlated?\n",
        "  - Which features are strongly negatively correlated?\n",
        "  - Which features are not correlated?\n",
        "  - How the danceability score compares between Pop, Hip-Hop/Rap, Dance/Electronic, and Alternative/Indie genres?\n",
        "  - How the loudness score compares between Pop, Hip-Hop/Rap, Dance/Electronic, and Alternative/Indie genres?\n",
        "  - How the acousticness score compares between Pop, Hip-Hop/Rap, Dance/Electronic, and Alternative/Indie genres?\n",
        "- Provide clear explanations in your notebook. Your explanations should inform the reader what are you trying to achieve, what results did you get, and what these results mean.\n",
        "- Provide suggestions about how your analysis can be improved.\n",
        "\n",
        "## Evaluation Criteria\n",
        "\n",
        "- Adherence to the requirements. How well did you meet the requirements?\n",
        "- Code quality. Was your code well-structure? Did you use the right levels of abstraction? Did you remove commented out and unused code? Did you adhere to the PEP8?\n",
        "- Code performance. Did you use the right algorithms and data structures to solve the problems?\n",
        "\n",
        "## Sample Correction Questions\n",
        "\n",
        "During a correction, you may get asked questions that test your understanding of covered topics.\n",
        "\n",
        "- What advantages do NumPy arrays have over Python lists?\n",
        "- What makes computation on NumPy arrays so fast?\n",
        "- What are the rules of broadcasting?\n",
        "- What advantages do Pandas have over NumPy?\n",
        "- What is a DataFrame in Pandas?\n"
      ]
    },
    {
      "cell_type": "code",
      "metadata": {
        "id": "z7SWPRrH1pZu"
      },
      "source": [
        ""
      ],
      "execution_count": null,
      "outputs": []
    }
  ]
}